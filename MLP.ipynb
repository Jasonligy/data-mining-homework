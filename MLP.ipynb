{
  "cells": [
    {
      "cell_type": "markdown",
      "metadata": {
        "id": "jMDM_8UF7jW_"
      },
      "source": [
        "# Question 6"
      ]
    },
    {
      "cell_type": "markdown",
      "metadata": {},
      "source": [
        "# Data Normalization"
      ]
    },
    {
      "cell_type": "code",
      "execution_count": 20,
      "metadata": {},
      "outputs": [],
      "source": [
        "import numpy as np\n",
        "import pandas as pd\n",
        "\n",
        "train_df = pd.read_csv('./train_data.csv').to_numpy()\n",
        "val_df = pd.read_csv('./validate_data.csv').to_numpy()\n",
        "\n",
        "y_train=train_df[:,2]\n",
        "x_train=train_df[:,0:2]\n",
        "y_val=val_df[:,2]\n",
        "x_val=val_df[:,0:2]\n",
        "\n"
      ]
    },
    {
      "cell_type": "code",
      "execution_count": 21,
      "metadata": {},
      "outputs": [
        {
          "data": {
            "text/plain": [
              "(array([[0.29091901, 0.32840185],\n",
              "        [0.18739645, 0.07590681],\n",
              "        [0.41890954, 0.15372418],\n",
              "        [0.81728824, 0.98426067]]),\n",
              " array([0., 0., 0., 0.]))"
            ]
          },
          "execution_count": 21,
          "metadata": {},
          "output_type": "execute_result"
        }
      ],
      "source": [
        "def minMaxNorm(data):\n",
        "    return  (data - np.min(data)) /  (np.max(data) - np.min(data))\n",
        "\n",
        "x_train= minMaxNorm(x_train)\n",
        "\n",
        "x_val = minMaxNorm(x_val)\n",
        "\n",
        "x_train[:4,:], y_train[:4]"
      ]
    },
    {
      "attachments": {},
      "cell_type": "markdown",
      "metadata": {},
      "source": [
        "implement the activation function with backward. Output isa tuple contains the expected value with the original input. We use relu activation at here. "
      ]
    },
    {
      "cell_type": "markdown",
      "metadata": {},
      "source": [
        "# Activation"
      ]
    },
    {
      "cell_type": "code",
      "execution_count": 22,
      "metadata": {
        "id": "ENblnfHo9ZS5"
      },
      "outputs": [],
      "source": [
        "# To DO \n",
        "# implement the activation and its derivative\n",
        "def activation(x):\n",
        "\n",
        "    #ReLU\n",
        "    out=np.maximum(0,x)\n",
        "    return out, x\n",
        "\n",
        "\n",
        "def activation_derivative(dvalue, x):\n",
        "    \n",
        "    out =np.maximum(0,x)\n",
        "    p =np.where(out!=0)\n",
        "    zeros =np.zeros(x.shape)\n",
        "    zeros[p[0],p[1]] =1\n",
        "    dx =dvalue * zeros\n",
        "    # *****END OF YOUR CODE (DO NOT DELETE/MODIFY THIS LINE)*****\n",
        "    ###########################################################################\n",
        "    #                             END OF YOUR CODE                            #\n",
        "    ###########################################################################\n",
        "    return dx"
      ]
    },
    {
      "cell_type": "markdown",
      "metadata": {},
      "source": [
        "# Loss function"
      ]
    },
    {
      "attachments": {},
      "cell_type": "markdown",
      "metadata": {},
      "source": [
        "We use softmax with cross entropy loss for the loss function. We merge the compute_loss and loss_derivative since they normally are computed together."
      ]
    },
    {
      "cell_type": "code",
      "execution_count": 23,
      "metadata": {
        "id": "fkinwPxR-tzB"
      },
      "outputs": [],
      "source": [
        "# To DO \n",
        "# implement the loss its derivative\n",
        "\n",
        "def compute_loss(x, y):\n",
        "   \n",
        "    x=np.exp(x-x.max()) /np.transpose( np.array([np.sum(np.exp(x-x.max()), axis=1),]*x.shape[1]))\n",
        "    target=np.zeros(x.shape)\n",
        "    p=zip([i for i in range(x.shape[0])],y)\n",
        "    \n",
        "    target[[i for i in range(x.shape[0])],y.astype(int)]=1\n",
        "    N = x.shape[0]\n",
        "    ce = -np.sum(target*np.log(x+1e-9))/N\n",
        "    \n",
        "    grad=x\n",
        "    grad[range(y.shape[0]),y.astype(int)]-=1\n",
        "    grad=grad/y.shape[0]\n",
        "    return ce, grad\n"
      ]
    },
    {
      "cell_type": "code",
      "execution_count": 24,
      "metadata": {},
      "outputs": [],
      "source": [
        "\n",
        "def forward_pass(x,w,b):\n",
        "  \n",
        "  z=np.dot(x,w)+b\n",
        "  cache = (x, w, b)\n",
        "  \n",
        "  return z, cache\n"
      ]
    },
    {
      "cell_type": "code",
      "execution_count": 25,
      "metadata": {
        "id": "5odxcSaWzP6c"
      },
      "outputs": [],
      "source": [
        "# TO DO \n",
        "def backward_pass(dout, cache):\n",
        "\n",
        "    x, w, b = cache\n",
        "\n",
        "    transx =x.reshape(x.shape[0],-1)\n",
        "\n",
        "    dx =np.dot(dout, np.transpose(w))\n",
        "    dx =dx.reshape(*x.shape)\n",
        "    db =np.dot(np.ones((1,x.shape[0])), dout)\n",
        "    dw =np.dot(np.transpose(transx), dout)\n",
        "\n",
        "    return dx, dw, db"
      ]
    },
    {
      "attachments": {},
      "cell_type": "markdown",
      "metadata": {},
      "source": [
        "#  Network"
      ]
    },
    {
      "attachments": {},
      "cell_type": "markdown",
      "metadata": {},
      "source": [
        "We use class to define the network, together with necessary gradient and loss function"
      ]
    },
    {
      "cell_type": "code",
      "execution_count": 26,
      "metadata": {},
      "outputs": [],
      "source": [
        "class TwoLayerNet(object):\n",
        "\n",
        "    def __init__(\n",
        "        self,\n",
        "        input_dim=2,\n",
        "        hidden_dim=10,\n",
        "        num_classes=2,\n",
        "        weight_scale=1e-3,\n",
        "        reg=0.0,\n",
        "    ):\n",
        "  \n",
        "        self.params = {}\n",
        "        self.reg = reg\n",
        "\n",
        "        self.params['b1']=np.zeros((hidden_dim,))\n",
        "        self.params['b2']=np.zeros((hidden_dim,))\n",
        "        self.params['b3']=np.zeros((num_classes,))\n",
        "        self.params['W1']=np.random.normal(0.0,weight_scale,(input_dim,hidden_dim))\n",
        "        self.params['W2']=np.random.normal(0.0,weight_scale,(hidden_dim,hidden_dim))\n",
        "        self.params['W3']=np.random.normal(0.0,weight_scale,(hidden_dim,num_classes))\n",
        "\n",
        "    def predict(self,X):\n",
        "        \n",
        "        h1,h1_cache =forward_pass(X,self.params['W1'],self.params['b1'])\n",
        "        r1,relu1_cache =activation(h1)\n",
        "        h2,h2_cache =forward_pass(r1,self.params['W2'],self.params['b2'])\n",
        "        r2,relu2_cache =activation(h2)\n",
        "        h3,h3_cache =forward_pass(r1,self.params['W3'],self.params['b3'])\n",
        "        r3,relu3_cache =activation(h3)\n",
        "\n",
        "        return r3\n",
        "        \n",
        "    def loss(self, X, y=None):\n",
        "      \n",
        "        scores = None\n",
        "\n",
        "        h1,h1_cache=forward_pass(X,self.params['W1'],self.params['b1'])\n",
        "        r1,relu1_cache=activation(h1)\n",
        "        h2,h2_cache=forward_pass(r1,self.params['W2'],self.params['b2'])\n",
        "        r2,relu2_cache=activation(h2)\n",
        "        h3,h3_cache=forward_pass(r2,self.params['W3'],self.params['b3'])\n",
        "        r3,relu3_cache=activation(h3)\n",
        "\n",
        "        if y is None:\n",
        "            return scores\n",
        "\n",
        "        loss, grads = 0, {}\n",
        "        \n",
        "        loss, grad= compute_loss(relu3_cache,y)\n",
        "        loss += 0.5*np.sum(np.square(self.params['W1']))\n",
        "        loss += 0.5*np.sum(np.square(self.params['W2']))\n",
        "        loss += 0.5*np.sum(np.square(self.params['W3']))\n",
        "\n",
        "        # grad+=0.5*np.sum(self.params['W1'])\n",
        "        # grad+=0.5*np.sum(self.params['W2'])\n",
        "        \n",
        "        # print(grad.shape)\n",
        "        # print(relu3_cache.shape)\n",
        "        relu3_grad =activation_derivative(grad,relu3_cache)  \n",
        "            \n",
        "        x3_grad,grads['W3'],grads['b3'] =backward_pass(relu3_grad,h3_cache)\n",
        "\n",
        "        relu2_grad =activation_derivative( x3_grad,relu2_cache)\n",
        "        x2_grad,grads['W2'],grads['b2'] =backward_pass(relu2_grad,h2_cache)\n",
        "        \n",
        "        relu1_grad =activation_derivative(x2_grad,relu1_cache)\n",
        "        x1_grad,grads['W1'],grads['b1'] =backward_pass(relu1_grad,h1_cache)\n",
        "\n",
        "        # *****END OF YOUR CODE (DO NOT DELETE/MODIFY THIS LINE)*****\n",
        "        ############################################################################\n",
        "        #                             END OF YOUR CODE                             #\n",
        "        ############################################################################\n",
        "\n",
        "        return loss, grads"
      ]
    },
    {
      "cell_type": "markdown",
      "metadata": {},
      "source": [
        "# Batches"
      ]
    },
    {
      "cell_type": "code",
      "execution_count": 27,
      "metadata": {
        "id": "SbtyV0Bh7ZmC"
      },
      "outputs": [],
      "source": [
        "# TO DO \n",
        "# organize the training data into batches\n",
        "def make_batches(x_train, y_train, batch_size, iter):\n",
        "\n",
        "    if (iter+1) * batch_size > x_train.shape[0]:\n",
        "        return x_train[iter*batch_size:,:], y_train[iter*batch_size:]\n",
        "\n",
        "    return x_train[iter*batch_size:(iter+1)*batch_size,:], y_train[iter*batch_size:(iter+1)*batch_size]"
      ]
    },
    {
      "cell_type": "code",
      "execution_count": 28,
      "metadata": {
        "id": "Pxo61LUjzlB_"
      },
      "outputs": [],
      "source": [
        "#TO DO\n",
        "\n",
        "def update_weights(network, grads, lr):\n",
        "\n",
        "  for index in grads.keys():\n",
        "    network.params[index] -= lr*grads[index][0]\n",
        "  return"
      ]
    },
    {
      "cell_type": "code",
      "execution_count": 29,
      "metadata": {
        "id": "zxDJLFXsE1-O"
      },
      "outputs": [],
      "source": [
        "# # To Do\n",
        "# # define you stopping criteria for training\n",
        "# def stopping_criteria():\n",
        "#   stop = False\n",
        "#   return stop"
      ]
    },
    {
      "cell_type": "code",
      "execution_count": 30,
      "metadata": {
        "id": "uv6XNf5WETxn"
      },
      "outputs": [],
      "source": [
        "# TO DO\n",
        "# Define the hyperparameters. Add any additional hyperparameters you might need\n",
        "lr = 0.01  # learning rate\n",
        "batch_size = 10\n",
        "num_epochs = 100"
      ]
    },
    {
      "cell_type": "code",
      "execution_count": 31,
      "metadata": {
        "id": "oU6_R9PZEnFr"
      },
      "outputs": [],
      "source": [
        "def train(x_train, y_train, lr, batch_size, num_epochs, network):\n",
        "  \n",
        "  num_iter = x_train.shape[0]//batch_size\n",
        "  # network = TwoLayerNet()\n",
        "\n",
        "  for i in range(num_epochs):\n",
        "\n",
        "    # print('epoch: '+str(i))\n",
        "\n",
        "    if i % 20 == 0:\n",
        "      lr=lr*0.2\n",
        "\n",
        "    for iter in range(num_iter):\n",
        "\n",
        "        # TO DO \n",
        "        # get a batch from the data\n",
        "        x_batch, y_batch = make_batches(x_train, y_train, batch_size,iter)\n",
        "        loss, grads = network.loss(x_batch,y_batch)\n",
        "        # # forward the batch through the network layers\n",
        "        # predicted_op = forward_pass(x_batch)\n",
        "\n",
        "        # # compute the loss\n",
        "        # loss = compute_loss(predicted_op, y_batch)\n",
        "\n",
        "        # # perform backward pass\n",
        "        # grads = backward_pass(loss)\n",
        "\n",
        "        # update the weights of the network\n",
        "        update_weights(network, grads, lr)\n"
      ]
    },
    {
      "cell_type": "markdown",
      "metadata": {},
      "source": [
        "# Experiment"
      ]
    },
    {
      "cell_type": "code",
      "execution_count": 32,
      "metadata": {},
      "outputs": [
        {
          "name": "stdout",
          "output_type": "stream",
          "text": [
            "8\n",
            "0.5\n"
          ]
        }
      ],
      "source": [
        "network = TwoLayerNet(weight_scale=0.001)\n",
        "\n",
        "train(x_train, y_train, lr, batch_size, num_epochs, network)\n",
        "\n",
        "num_iter = x_val.shape[0] // batch_size\n",
        "\n",
        "print(num_iter)\n",
        "\n",
        "num = 0\n",
        "\n",
        "# df = pd.DataFrame({\n",
        "#     \"y_pred\": [ np.argmax(  network.predict(x_val[i])  ) for i in range(num_iter)],\n",
        "#     \"y_true\": y_val\n",
        "# })\n",
        "\n",
        "# (df.y_pred == df.y_true).value_counts()\n",
        "\n",
        "for iter in range(num_iter):\n",
        "    \n",
        "    res = network.predict(x_val[iter])\n",
        "    \n",
        "    if y_val[iter] == np.argmax(res):\n",
        "        # print(res)\n",
        "        num += 1\n",
        "\n",
        "print(num / num_iter)\n"
      ]
    },
    {
      "cell_type": "markdown",
      "metadata": {},
      "source": [
        "# Confusion Matrix"
      ]
    },
    {
      "cell_type": "code",
      "execution_count": 33,
      "metadata": {},
      "outputs": [
        {
          "ename": "ModuleNotFoundError",
          "evalue": "No module named 'sklearn'",
          "output_type": "error",
          "traceback": [
            "\u001b[1;31m---------------------------------------------------------------------------\u001b[0m",
            "\u001b[1;31mModuleNotFoundError\u001b[0m                       Traceback (most recent call last)",
            "Cell \u001b[1;32mIn[33], line 1\u001b[0m\n\u001b[1;32m----> 1\u001b[0m \u001b[39mfrom\u001b[39;00m \u001b[39msklearn\u001b[39;00m\u001b[39m.\u001b[39;00m\u001b[39mmetrics\u001b[39;00m \u001b[39mimport\u001b[39;00m confusion_matrix\n\u001b[0;32m      4\u001b[0m confusion_matrix(y_true, y_pred)\n",
            "\u001b[1;31mModuleNotFoundError\u001b[0m: No module named 'sklearn'"
          ]
        }
      ],
      "source": [
        "from sklearn.metrics import confusion_matrix\n",
        "\n",
        "\n",
        "confusion_matrix(y_true, y_pred)"
      ]
    },
    {
      "cell_type": "code",
      "execution_count": null,
      "metadata": {},
      "outputs": [
        {
          "data": {
            "text/plain": [
              "0"
            ]
          },
          "execution_count": 147,
          "metadata": {},
          "output_type": "execute_result"
        }
      ],
      "source": []
    }
  ],
  "metadata": {
    "colab": {
      "collapsed_sections": [],
      "name": "MLP.ipynb",
      "provenance": []
    },
    "kernelspec": {
      "display_name": "Python 3",
      "language": "python",
      "name": "python3"
    },
    "language_info": {
      "codemirror_mode": {
        "name": "ipython",
        "version": 3
      },
      "file_extension": ".py",
      "mimetype": "text/x-python",
      "name": "python",
      "nbconvert_exporter": "python",
      "pygments_lexer": "ipython3",
      "version": "3.8.0"
    },
    "vscode": {
      "interpreter": {
        "hash": "865d8b2eb28e274047ba64063dfb6a2aabf0dfec4905d304d7a76618dae6fdd4"
      }
    }
  },
  "nbformat": 4,
  "nbformat_minor": 0
}
